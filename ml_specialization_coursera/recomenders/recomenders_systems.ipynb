{
 "cells": [
  {
   "metadata": {},
   "cell_type": "markdown",
   "source": [
    "# Recommender Systems\n",
    "A recommender system is a type of algorithm that suggests items to users based on various types of data. It's widely used in platforms like Netflix, Amazon, YouTube, and Spotify to personalize user experiences.\n",
    "The goal is to predict and recommend items (products, movies, songs, etc.) that a user is likely to prefer or engage with.\n",
    " \n",
    "## Notation\n",
    "\n",
    "\n",
    "| **Notation**       | **Description**                                                            | **Python (if any)** |\n",
    "|--------------------|----------------------------------------------------------------------------|---------------------|\n",
    "| $r(i,j)$           | scalar; = rating given by user j on movie  i    (if r(i,j) = 1 is defined) |                     |\n",
    "| $\\mathbf{w}^{(j)}$ | vector; parameters for user j                                              |                     |\n",
    "| $b^{(j)}$          | scalar; parameter for user j                                               |                     |\n",
    "| $\\mathbf{x}^{(i)}$ | vector; feature ratings for movie i                                        |                     |     \n",
    "| $n_u$              | number of users                                                            | num_users           |\n",
    "| $n_m$              | number of movies                                                           | num_movies          |\n",
    "| $n$                | number of features                                                         | num_features        |\n",
    "| $\\mathbf{X}$       | matrix of vectors $\\mathbf{x}^{(i)}$                                       | X                   |\n",
    "| $\\mathbf{W}$       | matrix of vectors $\\mathbf{w}^{(j)}$                                       | W                   |\n",
    "| $\\mathbf{b}$       | vector of bias parameters $b^{(j)}$                                        | b                   |\n",
    "| $\\mathbf{R}$       | matrix of elements $r(i,j)$                                                | R                   |\n",
    "\n",
    "\n",
    "\n",
    "1. load the movie ratings\n",
    "2. build cost function without regularization\n",
    "3. add regularization to the cost function -> to avoid overfitting  \n",
    "3. \n",
    "4. \n",
    "5. \n",
    "6. Compute the collaborative filtering objective function\n",
    "2. use tensorflow to custom training loop to learn the parameters\n",
    "3. \n",
    "\n"
   ],
   "id": "87ed3e5fbb4b3772"
  },
  {
   "metadata": {
    "ExecuteTime": {
     "end_time": "2025-05-08T14:52:12.913500Z",
     "start_time": "2025-05-08T14:52:02.850074Z"
    }
   },
   "cell_type": "code",
   "source": [
    "import numpy as np\n",
    "import tensorflow as tf\n",
    "from tensorflow import keras\n",
    "from recsys_utils import *"
   ],
   "id": "ff994fee263d32f4",
   "outputs": [],
   "execution_count": 1
  },
  {
   "metadata": {
    "ExecuteTime": {
     "end_time": "2025-05-08T15:29:30.736885Z",
     "start_time": "2025-05-08T15:29:30.632637Z"
    }
   },
   "cell_type": "code",
   "source": [
    "#Load data\n",
    "X, W, b, num_movies, num_features, num_users = load_precalc_params_small()\n",
    "Y, R = load_ratings_small()\n",
    "\n",
    "print(\"Y\", Y.shape, \"R\", R.shape)\n",
    "print(\"X\", X.shape)\n",
    "print(\"W\", W.shape)\n",
    "print(\"b\", b.shape)\n",
    "print(\"num_features\", num_features)\n",
    "print(\"num_movies\",   num_movies)\n",
    "print(\"num_users\",    num_users)"
   ],
   "id": "5eac72b822535b21",
   "outputs": [
    {
     "name": "stdout",
     "output_type": "stream",
     "text": [
      "Y (4778, 443) R (4778, 443)\n",
      "X (4778, 10)\n",
      "W (443, 10)\n",
      "b (1, 443)\n",
      "num_features 10\n",
      "num_movies 4778\n",
      "num_users 443\n"
     ]
    }
   ],
   "execution_count": 8
  },
  {
   "metadata": {
    "ExecuteTime": {
     "end_time": "2025-05-08T15:29:32.805394Z",
     "start_time": "2025-05-08T15:29:32.803290Z"
    }
   },
   "cell_type": "code",
   "source": [
    "#  From the matrix, we can compute statistics like average rating.\n",
    "tsmean =  np.mean(Y[0, R[0, :].astype(bool)])\n",
    "print(f\"Average rating for movie 1 : {tsmean:0.3f} / 5\" )"
   ],
   "id": "f2868b21eafaffc9",
   "outputs": [
    {
     "name": "stdout",
     "output_type": "stream",
     "text": [
      "Average rating for movie 1 : 3.400 / 5\n"
     ]
    }
   ],
   "execution_count": 9
  },
  {
   "metadata": {
    "ExecuteTime": {
     "end_time": "2025-05-08T15:50:45.859824Z",
     "start_time": "2025-05-08T15:50:45.857193Z"
    }
   },
   "cell_type": "code",
   "source": [
    "\n",
    "def cofi_cost_func(X, W, b, Y, R, lambda_):\n",
    "    \"\"\"\n",
    "    Returns the cost for the content-based filtering\n",
    "    Args:\n",
    "      X (ndarray (num_movies,num_features)): matrix of item features\n",
    "      W (ndarray (num_users,num_features)) : matrix of user parameters\n",
    "      b (ndarray (1, num_users)            : vector of user parameters\n",
    "      Y (ndarray (num_movies,num_users)    : matrix of user ratings of movies\n",
    "      R (ndarray (num_movies,num_users)    : matrix, where R(i, j) = 1 if the i-th movies was rated by the j-th user\n",
    "      lambda_ (float): regularization parameter\n",
    "    Returns:\n",
    "      J (float) : Cost\n",
    "    \"\"\"\n",
    "    \n",
    "    # Extracts the number of users and movies from Y\n",
    "    nm, nu = Y.shape\n",
    "    J = 0\n",
    "    for j in range(nu):\n",
    "        # retrieve the feature_vector and the bias from each user\n",
    "        w = W[j,:]\n",
    "        b_j = b[0,j]\n",
    "        \n",
    "        for i in range(nm):\n",
    "            # for each movie, gets the feature_vector, the actual rating from user j  to movie i, and r, which is 1 if that rating exists, or 0 otherwise\n",
    "            x = X[i,:]\n",
    "            y = Y[i,j]\n",
    "            r = R[i,j]\n",
    "            # cost calculation: \n",
    "            # - Calculate the prediction =  np.dot(w, x) + b_j\n",
    "            # - calculate the error: prediction - actual = (np.dot(w, x) + b_j - y)\n",
    "            # - Multiplies it by r so that only existing ratings are counted\n",
    "            # - Squares the error and adds it to the cost\n",
    "            J += np.square(r * (np.dot(w,x) + b_j - y ) )\n",
    "            \n",
    "    # Regularization Term:\n",
    "    # - dds regularization to penalize large values in W and X, This helps prevent overfitting\n",
    "    \n",
    "     # Divide the entire cost by 2\n",
    "    J = J/2\n",
    "    J += (lambda_/2) * (np.sum(np.square(W)) + np.sum(np.square(X)))\n",
    "        \n",
    "    return J\n",
    "        "
   ],
   "id": "a11ba4ad5fd0977c",
   "outputs": [],
   "execution_count": 20
  },
  {
   "metadata": {
    "ExecuteTime": {
     "end_time": "2025-05-08T15:50:46.321956Z",
     "start_time": "2025-05-08T15:50:46.318221Z"
    }
   },
   "cell_type": "code",
   "source": [
    "# Reduce the data set size so that this runs faster\n",
    "num_users_r = 4\n",
    "num_movies_r = 5 \n",
    "num_features_r = 3\n",
    "\n",
    "X_r = X[:num_movies_r, :num_features_r]\n",
    "W_r = W[:num_users_r,  :num_features_r]\n",
    "b_r = b[0, :num_users_r].reshape(1,-1)\n",
    "Y_r = Y[:num_movies_r, :num_users_r]\n",
    "R_r = R[:num_movies_r, :num_users_r]\n",
    "\n",
    "# Evaluate cost function\n",
    "J = cofi_cost_func(X_r, W_r, b_r, Y_r, R_r, 0);\n",
    "print(f\"Cost: {J:0.2f}\")"
   ],
   "id": "6213c2f2b82ba838",
   "outputs": [
    {
     "name": "stdout",
     "output_type": "stream",
     "text": [
      "Cost: 13.67\n"
     ]
    }
   ],
   "execution_count": 21
  },
  {
   "metadata": {},
   "cell_type": "markdown",
   "source": [
    "**Expected Output (lambda = 0)**:  \n",
    "$13.67$."
   ],
   "id": "bbc0d205b39a80c6"
  },
  {
   "metadata": {
    "ExecuteTime": {
     "end_time": "2025-05-08T15:50:47.741596Z",
     "start_time": "2025-05-08T15:50:47.738969Z"
    }
   },
   "cell_type": "code",
   "source": [
    "# Evaluate cost function with regularization\n",
    "\n",
    "# print(f\"X_r={X_r}\")\n",
    "# print(f\"W_r={W_r}\")\n",
    "# print(f\"b_r={b_r}\")\n",
    "# print(f\"Y_r={Y_r}\")\n",
    "# print(f\"R_r={R_r}\")\n",
    "# print(f\"lambda_=1.5\")\n",
    "\n",
    "J = cofi_cost_func(X_r, W_r, b_r, Y_r, R_r, 1.5);\n",
    "\n",
    "print(f\"Cost (with regularization): {J:0.2f}\")"
   ],
   "id": "1bcb67399d0990d8",
   "outputs": [
    {
     "name": "stdout",
     "output_type": "stream",
     "text": [
      "Cost (with regularization): 28.09\n"
     ]
    }
   ],
   "execution_count": 22
  },
  {
   "metadata": {},
   "cell_type": "markdown",
   "source": [
    "**Expected Output**:\n",
    "\n",
    "28.09"
   ],
   "id": "6fce61939b6a5ab4"
  },
  {
   "metadata": {},
   "cell_type": "code",
   "outputs": [],
   "execution_count": null,
   "source": [
    "def cofi_cost_func_v(X, W, b, Y, R, lambda_):\n",
    "    \"\"\"\n",
    "    Returns the cost for the content-based filtering\n",
    "    Vectorized for speed. Uses tensorflow operations to be compatible with custom training loop.\n",
    "    Args:\n",
    "      X (ndarray (num_movies,num_features)): matrix of item features\n",
    "      W (ndarray (num_users,num_features)) : matrix of user parameters\n",
    "      b (ndarray (1, num_users)            : vector of user parameters\n",
    "      Y (ndarray (num_movies,num_users)    : matrix of user ratings of movies\n",
    "      R (ndarray (num_movies,num_users)    : matrix, where R(i, j) = 1 if the i-th movies was rated by the j-th user\n",
    "      lambda_ (float): regularization parameter\n",
    "    Returns:\n",
    "      J (float) : Cost\n",
    "    \"\"\"\n",
    "    j = (tf.linalg.matmul(X, tf.transpose(W)) + b - Y)*R\n",
    "    J = 0.5 * tf.reduce_sum(j**2) + (lambda_/2) * (tf.reduce_sum(X**2) + tf.reduce_sum(W**2))\n",
    "    return J"
   ],
   "id": "6a10c4673b16046b"
  },
  {
   "metadata": {
    "ExecuteTime": {
     "end_time": "2025-05-08T15:58:16.695647Z",
     "start_time": "2025-05-08T15:58:16.678179Z"
    }
   },
   "cell_type": "code",
   "source": [
    "movieList, movieList_df = load_Movie_List_pd()\n",
    "\n",
    "my_ratings = np.zeros(num_movies)          #  Initialize my ratings\n",
    "\n",
    "# Check the file small_movie_list.csv for id of each movie in our dataset\n",
    "# For example, Toy Story 3 (2010) has ID 2700, so to rate it \"5\", you can set\n",
    "my_ratings[2700] = 5 \n",
    "\n",
    "#Or suppose you did not enjoy Persuasion (2007), you can set\n",
    "my_ratings[2609] = 2;\n",
    "\n",
    "# We have selected a few movies we liked / did not like and the ratings we\n",
    "# gave are as follows:\n",
    "my_ratings[929]  = 5   # Lord of the Rings: The Return of the King, The\n",
    "my_ratings[246]  = 5   # Shrek (2001)\n",
    "my_ratings[2716] = 3   # Inception\n",
    "my_ratings[1150] = 5   # Incredibles, The (2004)\n",
    "my_ratings[382]  = 2   # Amelie (Fabuleux destin d'Amélie Poulain, Le)\n",
    "my_ratings[366]  = 5   # Harry Potter and the Sorcerer's Stone (a.k.a. Harry Potter and the Philosopher's Stone) (2001)\n",
    "my_ratings[622]  = 5   # Harry Potter and the Chamber of Secrets (2002)\n",
    "my_ratings[988]  = 3   # Eternal Sunshine of the Spotless Mind (2004)\n",
    "my_ratings[2925] = 1   # Louis Theroux: Law & Disorder (2008)\n",
    "my_ratings[2937] = 1   # Nothing to Declare (Rien à déclarer)\n",
    "my_ratings[793]  = 5   # Pirates of the Caribbean: The Curse of the Black Pearl (2003)\n",
    "my_rated = [i for i in range(len(my_ratings)) if my_ratings[i] > 0]\n",
    "\n",
    "print('\\nNew user ratings:\\n')\n",
    "for i in range(len(my_ratings)):\n",
    "    if my_ratings[i] > 0 :\n",
    "        print(f'Rated {my_ratings[i]} for  {movieList_df.loc[i,\"title\"]}');"
   ],
   "id": "21fee8ae6c1bee78",
   "outputs": [
    {
     "name": "stdout",
     "output_type": "stream",
     "text": [
      "\n",
      "New user ratings:\n",
      "\n",
      "Rated 5.0 for  Shrek (2001)\n",
      "Rated 5.0 for  Harry Potter and the Sorcerer's Stone (a.k.a. Harry Potter and the Philosopher's Stone) (2001)\n",
      "Rated 2.0 for  Amelie (Fabuleux destin d'Amélie Poulain, Le) (2001)\n",
      "Rated 5.0 for  Harry Potter and the Chamber of Secrets (2002)\n",
      "Rated 5.0 for  Pirates of the Caribbean: The Curse of the Black Pearl (2003)\n",
      "Rated 5.0 for  Lord of the Rings: The Return of the King, The (2003)\n",
      "Rated 3.0 for  Eternal Sunshine of the Spotless Mind (2004)\n",
      "Rated 5.0 for  Incredibles, The (2004)\n",
      "Rated 2.0 for  Persuasion (2007)\n",
      "Rated 5.0 for  Toy Story 3 (2010)\n",
      "Rated 3.0 for  Inception (2010)\n",
      "Rated 1.0 for  Louis Theroux: Law & Disorder (2008)\n",
      "Rated 1.0 for  Nothing to Declare (Rien à déclarer) (2010)\n"
     ]
    }
   ],
   "execution_count": 23
  },
  {
   "metadata": {
    "ExecuteTime": {
     "end_time": "2025-05-08T15:59:47.718495Z",
     "start_time": "2025-05-08T15:59:47.613084Z"
    }
   },
   "cell_type": "code",
   "source": [
    "#Add my personal reviews and normalize the ratings\n",
    "# Reload ratings\n",
    "Y, R = load_ratings_small()\n",
    "\n",
    "# Add new user ratings to Y \n",
    "Y = np.c_[my_ratings, Y]\n",
    "\n",
    "# Add new user indicator matrix to R\n",
    "R = np.c_[(my_ratings != 0).astype(int), R]\n",
    "\n",
    "# Normalize the Dataset\n",
    "Ynorm, Ymean = normalizeRatings(Y, R)"
   ],
   "id": "764b65b6a52485b4",
   "outputs": [],
   "execution_count": 24
  },
  {
   "metadata": {
    "ExecuteTime": {
     "end_time": "2025-05-08T16:00:16.923313Z",
     "start_time": "2025-05-08T16:00:16.895962Z"
    }
   },
   "cell_type": "code",
   "source": [
    "# prepare to train the model. Initialize the parameters and select the Adam optimizer.\n",
    "#  Useful Values\n",
    "num_movies, num_users = Y.shape\n",
    "num_features = 100\n",
    "\n",
    "# Set Initial Parameters (W, X), use tf.Variable to track these variables\n",
    "tf.random.set_seed(1234) # for consistent results\n",
    "W = tf.Variable(tf.random.normal((num_users,  num_features),dtype=tf.float64),  name='W')\n",
    "X = tf.Variable(tf.random.normal((num_movies, num_features),dtype=tf.float64),  name='X')\n",
    "b = tf.Variable(tf.random.normal((1,          num_users),   dtype=tf.float64),  name='b')\n",
    "\n",
    "# Instantiate an optimizer.\n",
    "optimizer = keras.optimizers.Adam(learning_rate=1e-1)"
   ],
   "id": "f99b6bbd0d24e75f",
   "outputs": [],
   "execution_count": 25
  },
  {
   "metadata": {},
   "cell_type": "markdown",
   "source": [
    "Now lets  train the collaborative filtering model. This will learn the parameters x, w and b\n",
    "\n",
    "The operations involved in learning w, b and x simultaneously do not fall into the typical 'layers' offered in the TensorFlow neural network package.\n",
    "Consequently, the flow Model, Compile(), Fit(), Predict(), are not directly applicable. Instead, we can use a custom training loop.\n",
    "\n",
    "The steps of gradient descent are as follows:\n",
    "\n",
    "repeat until convergence:\n",
    "- compute forward pass\n",
    "- compute the derivatives of the loss relative to parameters\n",
    "- update the parameters using the learning rate and the computed derivatives\n",
    "\n",
    "TensorFlow has the marvelous capability of calculating the derivatives for you. This is shown below. Within the tf.GradientTape() section, operations on Tensorflow Variables are tracked. When tape.gradient() is later called, it will return the gradient of the loss relative to the tracked variables. The gradients can then be applied to the parameters using an optimizer. This is a very brief introduction to a useful feature of TensorFlow and other machine learning frameworks. Further information can be found by investigating \"custom training loops\" within the framework of interest."
   ],
   "id": "5c6d6a98ae909c4a"
  },
  {
   "metadata": {},
   "cell_type": "code",
   "outputs": [],
   "execution_count": null,
   "source": [
    "iterations = 200\n",
    "lambda_ = 1\n",
    "for iter in range(iterations):\n",
    "    # Use TensorFlow’s GradientTape\n",
    "    # to record the operations used to compute the cost \n",
    "    with tf.GradientTape() as tape:\n",
    "\n",
    "        # Compute the cost (forward pass included in cost)\n",
    "        cost_value = cofi_cost_func_v(X, W, b, Ynorm, R, lambda_)\n",
    "\n",
    "    # Use the gradient tape to automatically retrieve\n",
    "    # the gradients of the trainable variables with respect to the loss\n",
    "    grads = tape.gradient( cost_value, [X,W,b] )\n",
    "\n",
    "    # Run one step of gradient descent by updating\n",
    "    # the value of the variables to minimize the loss.\n",
    "    optimizer.apply_gradients( zip(grads, [X,W,b]) )\n",
    "\n",
    "    # Log periodically.\n",
    "    if iter % 20 == 0:\n",
    "        print(f\"Training loss at iteration {iter}: {cost_value:0.1f}\")"
   ],
   "id": "44c4ff38b979b9e2"
  },
  {
   "metadata": {},
   "cell_type": "code",
   "outputs": [],
   "execution_count": null,
   "source": [
    "# Recomendations \n",
    "# Below, we compute the ratings for all the movies and users and display the movies that are recommended. These are based on the movies and ratings entered as my_ratings[] above. To predict the rating of movie  𝑖 for user  𝑗  you compute  𝐰(𝑗)⋅𝐱(𝑖)+𝑏(𝑗)This can be computed for all ratings using matrix multiplication.\n",
    "\n",
    "# Make a prediction using trained weights and biases\n",
    "p = np.matmul(X.numpy(), np.transpose(W.numpy())) + b.numpy()\n",
    "\n",
    "#restore the mean\n",
    "pm = p + Ymean\n",
    "\n",
    "my_predictions = pm[:,0]\n",
    "\n",
    "# sort predictions\n",
    "ix = tf.argsort(my_predictions, direction='DESCENDING')\n",
    "\n",
    "for i in range(17):\n",
    "    j = ix[i]\n",
    "    if j not in my_rated:\n",
    "        print(f'Predicting rating {my_predictions[j]:0.2f} for movie {movieList[j]}')\n",
    "\n",
    "print('\\n\\nOriginal vs Predicted ratings:\\n')\n",
    "for i in range(len(my_ratings)):\n",
    "    if my_ratings[i] > 0:\n",
    "        print(f'Original {my_ratings[i]}, Predicted {my_predictions[i]:0.2f} for {movieList[i]}')"
   ],
   "id": "323e4cc20e49fc60"
  },
  {
   "metadata": {},
   "cell_type": "code",
   "outputs": [],
   "execution_count": null,
   "source": [
    "# In practice, additional information can be utilized to enhance our predictions. Above, the predicted ratings for the first few hundred movies lie in a small range. We can augment the above by selecting from those top movies, movie that have high average ratings and movies with more than 20 ratings. This section uses a Pandas data frame which has many handy sorting features.\n",
    "filter=(movieList_df[\"number of ratings\"] > 20)\n",
    "movieList_df[\"pred\"] = my_predictions\n",
    "movieList_df = movieList_df.reindex(columns=[\"pred\", \"mean rating\", \"number of ratings\", \"title\"])\n",
    "movieList_df.loc[ix[:300]].loc[filter].sort_values(\"mean rating\", ascending=False)"
   ],
   "id": "c56f252fe9c053a6"
  }
 ],
 "metadata": {
  "kernelspec": {
   "display_name": "Python 3",
   "language": "python",
   "name": "python3"
  },
  "language_info": {
   "codemirror_mode": {
    "name": "ipython",
    "version": 2
   },
   "file_extension": ".py",
   "mimetype": "text/x-python",
   "name": "python",
   "nbconvert_exporter": "python",
   "pygments_lexer": "ipython2",
   "version": "2.7.6"
  }
 },
 "nbformat": 4,
 "nbformat_minor": 5
}
