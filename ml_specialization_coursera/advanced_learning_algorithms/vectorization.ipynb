{
 "cells": [
  {
   "cell_type": "markdown",
   "metadata": {},
   "source": [
    "## How neural networks are implemented efficiently\n",
    "One of the reasons that deep learning researchers have been able to scale up neural networks, and thought really large neural networks over the last decade, is because neural networks can be vectorized. \n",
    "\n",
    "np.matmul() function is how numpy handles matrix multiplications"
   ]
  },
  {
   "cell_type": "code",
   "execution_count": 1,
   "metadata": {},
   "outputs": [],
   "source": [
    "import numpy as np"
   ]
  },
  {
   "cell_type": "code",
   "execution_count": 3,
   "metadata": {},
   "outputs": [],
   "source": [
    "X = np.array ([[200, 17]])\n",
    "W = np.array([[\n",
    "    [1, -3, 5], \n",
    "    [-2, 4, -6],\n",
    "    [-1, 1, 2]\n",
    " ]])\n",
    "\n",
    "B = np.array([\n",
    "    [-1, 1, 2]\n",
    "    ])\n",
    "\n",
    "def dense(A_in, W, B):\n",
    "    Z = np.matmul(A_in, W) + B\n",
    "    A_out = g(Z)\n",
    "    return A_out"
   ]
  }
 ],
 "metadata": {
  "kernelspec": {
   "display_name": "venv_mlini2",
   "language": "python",
   "name": "python3"
  },
  "language_info": {
   "codemirror_mode": {
    "name": "ipython",
    "version": 3
   },
   "file_extension": ".py",
   "mimetype": "text/x-python",
   "name": "python",
   "nbconvert_exporter": "python",
   "pygments_lexer": "ipython3",
   "version": "3.11.2"
  }
 },
 "nbformat": 4,
 "nbformat_minor": 2
}
